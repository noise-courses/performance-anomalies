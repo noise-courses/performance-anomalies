{
 "cells": [
  {
   "cell_type": "markdown",
   "metadata": {},
   "source": [
    "# Unsupervised Learning\n",
    "\n",
    "In this assignment, you will apply your knowledge and experience with unsupervised learning algorithms to an existing network traffic dataset.\n",
    "\n",
    "This assignment has three parts. The last part is open-ended.\n",
    "\n",
    "1. Implement compute principal component analysis by hand on a \"toy\" dataset.\n",
    "2. Use PCA to explore relationships between different performance metrics and datasets.\n",
    "3. **Optional** Use an unsupervised learning method of your choice to detect outliers in the dataset(s)."
   ]
  },
  {
   "cell_type": "code",
   "execution_count": 1,
   "metadata": {},
   "outputs": [],
   "source": [
    "import numpy as np\n",
    "import pandas as pd\n",
    "import matplotlib.pyplot as plt\n",
    "%matplotlib inline\n",
    "\n",
    "from sklearn.decomposition import PCA"
   ]
  },
  {
   "cell_type": "markdown",
   "metadata": {},
   "source": [
    "## Setup\n",
    "\n",
    "Below is a dataset of random points that you will use to implement PCA by hand."
   ]
  },
  {
   "cell_type": "code",
   "execution_count": 2,
   "metadata": {},
   "outputs": [
    {
     "data": {
      "image/png": "[encoded data removed]",
      "text/plain": [
       "<Figure size 640x480 with 1 Axes>"
      ]
     },
     "metadata": {},
     "output_type": "display_data"
    }
   ],
   "source": [
    "rng = np.random.RandomState(42)\n",
    "X = np.dot(rng.rand(2, 2), rng.randn(2, 200)).T\n",
    "\n",
    "plt.scatter(X[:, 0], X[:, 1])\n",
    "plt.axis('equal');\n",
    "\n",
    "plt.show()"
   ]
  },
  {
   "cell_type": "markdown",
   "metadata": {},
   "source": [
    "## Part 1: Principal Components Analysis (PCA) by Hand\n",
    "\n",
    "### Step 1: Center Each Data Point on the Mean\n",
    "\n",
    "Subtract the means, since we are concerned about capturing only variance."
   ]
  },
  {
   "cell_type": "markdown",
   "metadata": {},
   "source": [
    "### Step 2: Compute the Eigenvectors of the Covariance Matrix\n",
    "\n",
    "Here we compute the covariance matrix of the mean-centered datapoints, and sort the eigenvectors according to the eigenvalues.  We can see the resulting eigenvectors and eigenvalues."
   ]
  },
  {
   "cell_type": "markdown",
   "metadata": {},
   "source": [
    "### Step 3: Project the Original Data onto the Eigenvectors\n",
    "\n",
    "Project the original data onto the eigenvectors and plot the result."
   ]
  },
  {
   "cell_type": "markdown",
   "metadata": {},
   "source": [
    "## Part 2: PCA on Network Measurement Data\n",
    "\n",
    "In this part of the assignment, you will use PCA to understand characteristics of active network traffic measurements, as gathered by the Federal Communications Commission's Measuring Broadband America program. "
   ]
  },
  {
   "cell_type": "code",
   "execution_count": 9,
   "metadata": {},
   "outputs": [],
   "source": [
    "import numpy as np\n",
    "import pandas as pd\n",
    "import matplotlib.pyplot as plt\n",
    "%matplotlib inline\n",
    "\n",
    "from sklearn.decomposition import PCA"
   ]
  },
  {
   "cell_type": "markdown",
   "metadata": {},
   "source": [
    "### PCA on FCC Measuring Broadband America Data\n",
    "\n",
    "In this second part of the assignment, you will use Principal Component Analysis (PCA) to understand relationships between throughput (\"speed\"), web download speed, and latency. We have discussed in class the relationship between network latency and \"speed\", including aspects of performance like web page download time. \n",
    "\n",
    "To get a handle on this, let's look at the throughput test and latency first, for a particular Internet destination server in the dataset `sp2-vm-newyork-us.samknows.com`.\n",
    "\n",
    "You may need to do some cleaning of the data to get this loaded into a dataframe.\n",
    "\n",
    "### PCA in Two Dimensions (Throughput and Latency)\n",
    "\n",
    "The cell below loads a subset of this data for your analysis for the rest of the assignment."
   ]
  },
  {
   "cell_type": "markdown",
   "metadata": {},
   "source": [
    "### Pre-Process the Data\n",
    "\n",
    "This data has measurements from different \"units\", or devices that are located within ISP subscriber homes.\n",
    "\n",
    "Perform a merge on unit ID to get a mean value for throughput and latency for each device to this server. "
   ]
  },
  {
   "cell_type": "markdown",
   "metadata": {},
   "source": [
    "### Visualize the Data\n",
    "\n",
    "Plot the relationships between (1) latency and throughput; (2) latency and DNS lookup time; (3) latency and web page load time. What relationships do you observe, and why? (write your answer in a markdown cell below your visualization)."
   ]
  },
  {
   "cell_type": "markdown",
   "metadata": {},
   "source": [
    "### Principal Component Analysis\n",
    "\n",
    "In this part of the assignment, we will use PCA to explore the relationships between:\n",
    "* Latency\n",
    "* Web page load time\n",
    "\n",
    "for this, you will need to load data from the web page test file, which we have provided."
   ]
  },
  {
   "cell_type": "markdown",
   "metadata": {},
   "source": [
    "### Pre-Process the Web and DNS Measurments\n",
    "\n",
    "As above, take the average of (1) all web page load measurements per unit and (2) all DNS lookup time measurements and then merge that with the other two dimensions we already have to yield a matrix with four different dimensions.\n",
    "\n",
    "The data will need some cleaning. Describe your process in a separate markdown cell."
   ]
  },
  {
   "cell_type": "markdown",
   "metadata": {},
   "source": [
    "### Visualizing the Original Data with Pairwise Plots\n",
    "\n",
    "We know that there's an inverse relationship between the bytes per second of the speed test and latency, and a relationship between DNS lookup time and latency.  \n",
    "\n",
    "It is also the case that speeds of web page loads \"plateau\" after a certain level of throughput speed. (Think about why this is the case.) \n",
    "\n",
    "Visualize these relationdhips with pairwise 2D plots of the relationships. We have provided a bit of code to make the arrangement of the subplots easier.\n",
    "(Note that there are really only three relationships worth looking at below. The automated code plots all permutations of pairs for ease of reuse and visualization.)\n",
    "\n",
    "What do these visualizations tell you about the relationships between speed, page load time, and DNS lookup time?"
   ]
  },
  {
   "cell_type": "code",
   "execution_count": null,
   "metadata": {},
   "outputs": [],
   "source": [
    "from itertools import product \n",
    "\n",
    "fig, ax = plt.subplots(2,3, figsize=(16, 6))\n",
    "fig.subplots_adjust(left=0.0625, right=0.95, wspace=0.25)\n",
    "\n",
    "for (i,j) in product(np.arange(0,2),np.arange(0,3)):\n",
    "    ax[i][j].scatter(X.values[:,i], X.values[:,j], alpha=0.2)\n",
    "    ax[i][j].set(xlabel='Latency', ylabel='Throughput')\n",
    "    ax[i][j].set_xlabel('{}'.format(X.columns[i]))\n",
    "    ax[i][j].set_ylabel('{}'.format(X.columns[j]))"
   ]
  },
  {
   "cell_type": "markdown",
   "metadata": {},
   "source": [
    "### Understanding the Data with PCA\n",
    "\n",
    "The above exercise is effective, but it is a lot of plots!  Suppose you wanted to understand these relationships with fewer dimensions. PCA allows us to visualize these relationships with fewer dimensions. Reduce the dimensionality of the dataset to two dimensions, and use the *explained variance ratio* to explain which features capture the most variance in this dataset. (Write an explanation of what you see in a separate markdown box.)"
   ]
  },
  {
   "cell_type": "markdown",
   "metadata": {},
   "source": [
    "## Part 3: Outlier Detection (Optional)\n",
    "\n",
    "Use an unsupervised learning method of your choice to detect outliers in your dataset **using at least two of the dimensions**.  We are not looking for \"one dimensional outliers\" (e.g., latencies that exceed some value beyond a reasonable amount), but rather examples in the dataset that suggest a true anomaly.  Here are some examples:\n",
    "\n",
    "* Abnormally high DNS lookup times for some values of latency\n",
    "* Abnormally high web page load time for some values of network latency\n",
    "* Abnormally poor performance from one unit ID (subscriber) along some dimension\n",
    "\n",
    "Anything you can think of here will be acceptable so long as it is more than simply noticing that a single network metric will have outliers (yes, latency goes high for a single device at some times, but that's a simple anomaly to detect simply by measuring deviation from a mean. Try to identify some more complex relationships.)"
   ]
  }
 ],
 "metadata": {
  "celltoolbar": "Tags",
  "kernelspec": {
   "display_name": "Python 3 (ipykernel)",
   "language": "python",
   "name": "python3"
  },
  "language_info": {
   "codemirror_mode": {
    "name": "ipython",
    "version": 3
   },
   "file_extension": ".py",
   "mimetype": "text/x-python",
   "name": "python",
   "nbconvert_exporter": "python",
   "pygments_lexer": "ipython3",
   "version": "3.10.8"
  }
 },
 "nbformat": 4,
 "nbformat_minor": 4
}
